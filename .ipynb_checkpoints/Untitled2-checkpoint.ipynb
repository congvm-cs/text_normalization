{
 "cells": [
  {
   "cell_type": "code",
   "execution_count": 88,
   "metadata": {},
   "outputs": [],
   "source": [
    "from constant import *\n",
    "import subprocess\n",
    "import cmudict\n",
    "\n",
    "def remove_spec_punc(word):\n",
    "    ret_= []\n",
    "    for i in word:\n",
    "        tmp = \"\"\n",
    "        for j in i:\n",
    "            if ord(j) not in removed_pun_ipa_list:\n",
    "                tmp += j\n",
    "        ret_.append(tmp)\n",
    "    return ret_\n",
    "\n",
    "def remove_single_word(ipa_list):\n",
    "    ret_ = []\n",
    "    if len(ipa_list) < 2:\n",
    "        return ipa_list\n",
    "    else:\n",
    "        ret_.append(ipa_list[0])\n",
    "        for i in range(1, len(ipa_list)):\n",
    "            if len(ipa_list[i]) > 1 or i in viet_vowel_alpha:\n",
    "                ret_.append(ipa_list[i])\n",
    "    return ret_\n",
    "\n",
    "def postprocessing(ipa_list):\n",
    "    # print(ipa_list)\n",
    "    ret_ = []\n",
    "    for i in ipa_list:\n",
    "        if len(i) <= 0:\n",
    "            ret_.append(i)\n",
    "        else:\n",
    "            if len(i) > 1 and i[-1] in ['s', 'd', 'z', 'đ', 'v', '_', 'l', 'b', 'x']:\n",
    "                ret_.append(i[:-1])\n",
    "            else:\n",
    "                ret_.append(i)\n",
    "    return ret_\n",
    "\n",
    "def post_mapping(ipa_list):\n",
    "    ret_= []\n",
    "    for w in ipa_list:\n",
    "        ret_.append(tail_map_dict[w] if w in tail_map_dict else w)\n",
    "    return ret_\n",
    "\n",
    "\n",
    "def mapping(ipa_list):\n",
    "    ret_= []\n",
    "    \n",
    "    if len(ipa_list) < 1:\n",
    "        return ipa_list\n",
    "    else:\n",
    "        # Check first words\n",
    "        # For exception\n",
    "        if ipa_list[0] in first_exception_word:\n",
    "            ret_.append(first_exception_word[ipa_list[0]])\n",
    "        elif ipa_list[0] in map_dict:\n",
    "            ret_.append(map_dict[ipa_list[0]])\n",
    "        else:\n",
    "            ret_.append(ipa_list[0] )\n",
    "\n",
    "        for w in ipa_list[1:]:\n",
    "            if w in map_dict:\n",
    "                ret_.append(map_dict[w])\n",
    "            else:\n",
    "                ret_.append(w)\n",
    "    return ret_\n",
    "\n",
    "\n",
    "def get_ipa(word):\n",
    "    cmd = \"espeak {} --ipa=1\".format(word)\n",
    "    result = subprocess.Popen(cmd.split(), stdout=subprocess.PIPE)\n",
    "    result = result.stdout.read().decode('utf-8').split(\"\\n\")[0]\n",
    "    print(result)\n",
    "    result = result.split(\"_\")\n",
    "    return remove_spec_punc(result)\n",
    "\n",
    "\n",
    "def merge_ipa(ipa_form):\n",
    "    ipa_list = list(map_dict.keys())\n",
    "    ret_= []\n",
    "    current_idx = 0\n",
    "    while current_idx < len(ipa_form):\n",
    "        temp = \"\"\n",
    "        if \"\".join([i for i in ipa_form[current_idx:current_idx+2]]) in ipa_list:\n",
    "            temp += \"\".join([i for i in ipa_form[current_idx:current_idx+2]])\n",
    "            ret_.append(temp)\n",
    "            current_idx += 2\n",
    "        else:\n",
    "            ret_.append(ipa_form[current_idx])\n",
    "            current_idx += 1\n",
    "    return ret_ \n",
    "\n",
    "\n",
    "def preprocess_ipa_form(ipa_list):\n",
    "    ret_ = []\n",
    "    for i in ipa_list:\n",
    "        if len(i) != 0:\n",
    "            ret_.append(i)\n",
    "    return ret_\n",
    "\n",
    "\n",
    "def ipa_to_viet(ipa_form):\n",
    "    ret_= []\n",
    "    current_idx = 0\n",
    "    while current_idx < len(ipa_form):\n",
    "        if ipa_form[current_idx:current_idx+2] in viet_compound_alpha:\n",
    "            ret_.append(ipa_form[current_idx:current_idx+2])\n",
    "            current_idx += 2\n",
    "        else:\n",
    "            ret_.append(ipa_form[current_idx])\n",
    "            current_idx += 1\n",
    "    return ret_ \n",
    "\n",
    "\n",
    "def split(viet_form):\n",
    "    viet_form.extend(['_'])\n",
    "    viet_consonant_apha.extend(viet_compound_alpha)\n",
    "    ret_ = []\n",
    "    temp = \"\"\n",
    "    for i in range(len(viet_form)-1):\n",
    "        if (viet_form[i] in viet_consonant_apha) and (viet_form[i+1] in viet_consonant_apha):\n",
    "            temp += viet_form[i]\n",
    "            ret_.append(temp)\n",
    "            temp = \"\"\n",
    "        else:\n",
    "            temp += viet_form[i]\n",
    "        \n",
    "    ret_.append(temp)\n",
    "    return ret_\n",
    "\n",
    "\n",
    "def preprocess(word):\n",
    "    \"\"\"Returns a string of words stripped of punctuation\"\"\"\n",
    "    punct_str = '!\"#$%&\\'()*+,-./:;<=>/?@[\\\\]^_`{|}~«» '\n",
    "    return word.strip(punct_str).lower()\n",
    "\n",
    "\n",
    "def double_consonant(ipa_list):\n",
    "    ipa_list.append('_')\n",
    "    viet_consonant_apha.extend(viet_compound_alpha)\n",
    "    ret_ = []\n",
    "    i = 0\n",
    "    while i < len(ipa_list)-1:\n",
    "        if ipa_list[i] not in viet_consonant_apha and ipa_list[i+1] in viet_consonant_apha:\n",
    "            ret_.append(ipa_list[i])\n",
    "            ret_.append(ipa_list[i+1])\n",
    "            i+=1\n",
    "        else:\n",
    "            ret_.append(ipa_list[i])\n",
    "            i+=1\n",
    "    return ret_\n",
    "\n",
    "def vowel_count(word):\n",
    "    count = 0\n",
    "    for i in word:\n",
    "        if i in viet_vowel_alpha:\n",
    "            count += 1\n",
    "    return count"
   ]
  },
  {
   "cell_type": "code",
   "execution_count": 84,
   "metadata": {},
   "outputs": [],
   "source": [
    "def run(word):\n",
    "    print(\"------------------------------------------\")\n",
    "    print(word)\n",
    "    print(\"--\")\n",
    "    ipa = get_ipa(word)\n",
    "    print(ipa)\n",
    "\n",
    "    ret = double_consonant(ipa)\n",
    "    print(ret)\n",
    "\n",
    "    ret = merge_ipa(ret)\n",
    "    print(ret)\n",
    "\n",
    "    ret = mapping(ret)\n",
    "    print(ret)\n",
    "\n",
    "    ret = split(ret)\n",
    "    print(ret)\n",
    "\n",
    "    ret = mapping(ret)\n",
    "    print(ret)\n",
    "\n",
    "    ret = postprocessing(ret)\n",
    "    print(ret)\n",
    "    \n",
    "    ret = remove_single_word(ret)\n",
    "    print(ret)\n",
    "\n",
    "    ret = post_mapping(ret)\n",
    "    print(ret)\n",
    "\n",
    "    ret = preprocess_ipa_form(ret)\n",
    "    print(ret)\n",
    "\n",
    "    ret = remove_single_word(ret)\n",
    "    print(ret)\n",
    "    \n",
    "    print('~~~~')\n",
    "#     ret = [split(i.split()) for i in ret]\n",
    "#     print(ret)\n",
    "    \n",
    "#     ret = [split(list(i)) for i in ret]\n",
    "    ret1 = []\n",
    "    for i in ret:\n",
    "        ret1.extend(split(list(i)))\n",
    "        \n",
    "    print(ret1)\n",
    "        \n",
    "#     ret1 = []\n",
    "#     for i in ret:\n",
    "#         ret1.extend(i)\n",
    "#     print(ret1)"
   ]
  },
  {
   "cell_type": "code",
   "execution_count": 85,
   "metadata": {},
   "outputs": [
    {
     "name": "stdout",
     "output_type": "stream",
     "text": [
      "------------------------------------------\n",
      "abby\n",
      "--\n",
      "ˈa_b_i\n",
      "['a', 'b', 'i']\n",
      "['a', 'b', 'b', 'i', '_']\n",
      "['ab', 'b', 'i', '_']\n",
      "['ap', 'b', 'i', '_']\n",
      "['apbi_', '']\n",
      "['apbi_', '']\n",
      "['apbi', '']\n",
      "['apbi']\n",
      "['apbi']\n",
      "['apbi']\n",
      "['apbi']\n",
      "~~~~\n",
      "['ap', 'bi']\n"
     ]
    }
   ],
   "source": [
    "ret = run('abby')"
   ]
  },
  {
   "cell_type": "code",
   "execution_count": 87,
   "metadata": {},
   "outputs": [
    {
     "data": {
      "text/plain": [
       "['sin', 'g', '']"
      ]
     },
     "execution_count": 87,
     "metadata": {},
     "output_type": "execute_result"
    }
   ],
   "source": [
    "split(list('sing'))"
   ]
  },
  {
   "cell_type": "code",
   "execution_count": 69,
   "metadata": {},
   "outputs": [
    {
     "data": {
      "text/plain": [
       "True"
      ]
     },
     "execution_count": 69,
     "metadata": {},
     "output_type": "execute_result"
    }
   ],
   "source": [
    "'p' == 'p'"
   ]
  },
  {
   "cell_type": "code",
   "execution_count": 70,
   "metadata": {},
   "outputs": [
    {
     "data": {
      "text/plain": [
       "True"
      ]
     },
     "execution_count": 70,
     "metadata": {},
     "output_type": "execute_result"
    }
   ],
   "source": [
    "'b' == 'b'"
   ]
  },
  {
   "cell_type": "code",
   "execution_count": 89,
   "metadata": {},
   "outputs": [
    {
     "data": {
      "text/plain": [
       "2"
      ]
     },
     "execution_count": 89,
     "metadata": {},
     "output_type": "execute_result"
    }
   ],
   "source": [
    "vowel_count('abby')"
   ]
  },
  {
   "cell_type": "code",
   "execution_count": 117,
   "metadata": {},
   "outputs": [],
   "source": [
    "viet_char_with_vowel = \"ch, gh, gi, kh, ng, ngh, nh, ph, qu, th, tr\""
   ]
  },
  {
   "cell_type": "code",
   "execution_count": 118,
   "metadata": {},
   "outputs": [],
   "source": [
    "viet_char_with_vowel = viet_char_with_vowel.split(\", \")"
   ]
  },
  {
   "cell_type": "code",
   "execution_count": 119,
   "metadata": {},
   "outputs": [
    {
     "data": {
      "text/plain": [
       "['ch', 'gh', 'gi', 'kh', 'ng', 'ngh', 'nh', 'ph', 'qu', 'th', 'tr']"
      ]
     },
     "execution_count": 119,
     "metadata": {},
     "output_type": "execute_result"
    }
   ],
   "source": [
    "viet_char_with_vowel"
   ]
  },
  {
   "cell_type": "code",
   "execution_count": 109,
   "metadata": {},
   "outputs": [],
   "source": [
    "test = \"selang\""
   ]
  },
  {
   "cell_type": "code",
   "execution_count": 116,
   "metadata": {},
   "outputs": [],
   "source": [
    "def vowel_form_split(single_viet_word):\n",
    "    ret_= []\n",
    "    current_idx = 0\n",
    "    \n",
    "    while current_idx < len(single_viet_word):\n",
    "        temp = \"\"\n",
    "        if \"\".join([i for i in ipa_form[current_idx:current_idx+5]]) in viet_char_with_vowel:\n",
    "            temp += \"\".join([i for i in single_viet_word[current_idx:current_idx+5]])\n",
    "            ret_.append(temp)\n",
    "            current_idx += 5\n",
    "        elif \"\".join([i for i in ipa_form[current_idx:current_idx+4]]) in viet_char_with_vowel:\n",
    "            temp += \"\".join([i for i in single_viet_word[current_idx:current_idx+4]])\n",
    "            ret_.append(temp)\n",
    "            current_idx += 4\n",
    "            \n",
    "        elif \"\".join([i for i in ipa_form[current_idx:current_idx+3]]) in viet_char_with_vowel:\n",
    "            temp += \"\".join([i for i in single_viet_word[current_idx:current_idx+3]])\n",
    "            ret_.append(temp)\n",
    "            current_idx += 3\n",
    "            \n",
    "        elif \"\".join([i for i in single_viet_word[current_idx:current_idx+2]]) in viet_char_with_vowel:\n",
    "            temp += \"\".join([i for i in single_viet_word[current_idx:current_idx+2]])\n",
    "            ret_.append(temp)\n",
    "            current_idx += 2\n",
    "        else:\n",
    "            ret_.append(single_viet_word[current_idx])\n",
    "            current_idx += 1\n",
    "    return ret_ "
   ]
  },
  {
   "cell_type": "code",
   "execution_count": 110,
   "metadata": {},
   "outputs": [
    {
     "data": {
      "text/plain": [
       "['s', 'e', 'l', 'ang']"
      ]
     },
     "execution_count": 110,
     "metadata": {},
     "output_type": "execute_result"
    }
   ],
   "source": [
    "merge_ipa(test)"
   ]
  },
  {
   "cell_type": "code",
   "execution_count": 108,
   "metadata": {},
   "outputs": [],
   "source": [
    "def merge(word_list):\n",
    "    word_list.append('_')\n",
    "    ret = []\n",
    "    i = 0\n",
    "    while i < len(word_list)-1:\n",
    "        temp = \"\"\n",
    "        if word_list[i] in viet_consonant_apha and word_list[i+1] in viet_char_with_vowel:\n",
    "            temp += word_list[i]\n",
    "            temp += word_list[i+1]\n",
    "            i+=2\n",
    "        else:\n",
    "            temp+= word_list[i]\n",
    "            i+=1\n",
    "        ret.append(temp)\n",
    "    return ret"
   ]
  },
  {
   "cell_type": "code",
   "execution_count": 114,
   "metadata": {},
   "outputs": [
    {
     "data": {
      "text/plain": [
       "['e', 'lang']"
      ]
     },
     "execution_count": 114,
     "metadata": {},
     "output_type": "execute_result"
    }
   ],
   "source": [
    "merge(['e', 'l', 'ang'])"
   ]
  },
  {
   "cell_type": "code",
   "execution_count": 120,
   "metadata": {},
   "outputs": [
    {
     "data": {
      "text/plain": [
       "True"
      ]
     },
     "execution_count": 120,
     "metadata": {},
     "output_type": "execute_result"
    }
   ],
   "source": [
    "'t' == 't'"
   ]
  },
  {
   "cell_type": "code",
   "execution_count": null,
   "metadata": {},
   "outputs": [],
   "source": []
  }
 ],
 "metadata": {
  "kernelspec": {
   "display_name": "Python 3",
   "language": "python",
   "name": "python3"
  },
  "language_info": {
   "codemirror_mode": {
    "name": "ipython",
    "version": 3
   },
   "file_extension": ".py",
   "mimetype": "text/x-python",
   "name": "python",
   "nbconvert_exporter": "python",
   "pygments_lexer": "ipython3",
   "version": "3.6.5"
  }
 },
 "nbformat": 4,
 "nbformat_minor": 2
}
